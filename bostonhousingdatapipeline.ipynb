{
 "cells": [
  {
   "cell_type": "markdown",
   "id": "a4c71780",
   "metadata": {},
   "source": [
    "***GENERATED CODE FOR bostonhousingdatapipeline PIPELINE.***"
   ]
  },
  {
   "cell_type": "markdown",
   "id": "652c15bc",
   "metadata": {},
   "source": [
    "***DON'T EDIT THIS CODE.***"
   ]
  },
  {
   "cell_type": "markdown",
   "id": "d470d7e6",
   "metadata": {},
   "source": [
    "***CONNECTOR FUNCTIONS TO READ DATA.***"
   ]
  },
  {
   "cell_type": "code",
   "execution_count": null,
   "id": "76d29be3",
   "metadata": {},
   "outputs": [],
   "source": [
    "import os\n",
    "import pandas as pd\n",
    "from hdfs3 import HDFileSystem\n",
    "import datetime\n",
    "import logging\n",
    "import warnings\n",
    "warnings.filterwarnings('ignore')\n",
    "logging.basicConfig(format='%(levelname)s:%(message)s', level=logging.INFO)\n",
    "\n",
    "\n",
    "class HDFSConnector:\n",
    "\n",
    "    def fetch(spark, config):\n",
    "        ################### INPUT HADOOP HOST PORT TO CONNECT WITH ###############################\n",
    "        hdfs_server = str(os.environ['HDFS_SERVER'])\n",
    "        hdfs_port = int(os.environ['HDFS_PORT'])\n",
    "        hdfs = HDFileSystem(host=hdfs_server, port=hdfs_port)\n",
    "        with hdfs.open(eval(config)['url']) as f:\n",
    "            dfPd = pd.read_csv(f, error_bad_lines=False)\n",
    "        df = spark.createDataFrame(dfPd)\n",
    "        display(df.limit(2).toPandas())\n",
    "        return df\n",
    "\n",
    "    def put(df, spark, config):\n",
    "        return df.write.format('csv').options(header='true' if eval(config)[\"is_header\"] == \"Use Header Line\" else 'false',\n",
    "                                              delimiter=eval(config)[\"delimiter\"]).save((\"%s %s\") % (datetime.datetime.now().strftime(\"%Y-%m-%d %H.%M.%S\")+\"_\", eval(config)['url']))\n"
   ]
  },
  {
   "cell_type": "markdown",
   "id": "74d9cd87",
   "metadata": {},
   "source": [
    "***OPERATION FUNCTIONS***"
   ]
  },
  {
   "cell_type": "code",
   "execution_count": null,
   "id": "b94db066",
   "metadata": {},
   "outputs": [],
   "source": [
    "import pyspark\n",
    "import json\n",
    "from dask.dataframe import from_pandas\n",
    "\n",
    "\n",
    "def runDataCleansing(sparkDf, spark, config):\n",
    "    configObj = json.loads(config)\n",
    "    sparkDf.persist(pyspark.StorageLevel.MEMORY_AND_DISK)\n",
    "    df = from_pandas((sparkDf.toPandas()), npartitions=5)\n",
    "    functionList = configObj['functionsApplied']\n",
    "    Data_Cleansing_Methods = {\"replaceBy\": replaceValues,\n",
    "                              \"formula\": calculateFormula,\n",
    "                              \"aggregate\": aggregation,\n",
    "                              \"converttostringtype\": changeToString,\n",
    "                              \"editname\": renameColumns}\n",
    "    for function in functionList:\n",
    "        function['functionName']\n",
    "        df = Data_Cleansing_Methods[function['functionName']](df, function['functionsData'],\n",
    "                                                              function['applyOn'])\n",
    "    sparkDf = spark.createDataFrame(df.compute())\n",
    "\n",
    "    display(sparkDf.limit(2).toPandas())\n",
    "    return sparkDf\n"
   ]
  },
  {
   "cell_type": "markdown",
   "id": "b35dac1e",
   "metadata": {},
   "source": [
    "***CONNECTOR FUNCTIONS TO WRITE DATA.***"
   ]
  },
  {
   "cell_type": "code",
   "execution_count": null,
   "id": "b2650991",
   "metadata": {},
   "outputs": [],
   "source": [
    "import datetime\n",
    "import requests\n",
    "import datetime\n",
    "import logging\n",
    "import warnings\n",
    "warnings.filterwarnings('ignore')\n",
    "logging.basicConfig(format='%(levelname)s:%(message)s', level=logging.INFO)\n",
    "\n",
    "\n",
    "class NumtraConnector:\n",
    "\n",
    "    def put(inStages, inStagesData, stageId, spark, config):\n",
    "        path = eval(config)['server_url']\n",
    "        baseType = eval(config)['baseType']\n",
    "        results_url = eval(config)['results_url']\n",
    "        server = eval(config)['server']\n",
    "        originalfile = eval(config)['orignalKey']\n",
    "        eval(config)['pathOnly']\n",
    "        filename = eval(config)['filename']\n",
    "        eval(config)['ser']\n",
    "        eval(config)['user']\n",
    "        eval(config)['password']\n",
    "        eval(config)['authSource']\n",
    "        eval(config)['user_id']\n",
    "        eval(config)['parent_id']\n",
    "        eval(config)['project_id']\n",
    "        time = str(int(datetime.datetime.now().timestamp()))\n",
    "\n",
    "        inStagesData[inStages[0]]\n",
    "\n",
    "        print(path)\n",
    "        print(baseType)\n",
    "        print(results_url)\n",
    "        print(server)\n",
    "        print(originalfile)\n",
    "        print(filename)\n",
    "\n",
    "        args = {\n",
    "            'url': path,\n",
    "            'baseType': baseType,\n",
    "            'originalfile': originalfile,\n",
    "            'filename': time + filename\n",
    "        }\n",
    "\n",
    "        response = requests.post(results_url, args)\n",
    "        return response\n"
   ]
  },
  {
   "cell_type": "markdown",
   "id": "70d16731",
   "metadata": {},
   "source": [
    "***READING DATAFRAME***"
   ]
  },
  {
   "cell_type": "code",
   "execution_count": null,
   "id": "d6a4dbf5",
   "metadata": {},
   "outputs": [],
   "source": [
    "############## CREATE SPARK SESSION ############################ ENTER YOUR SPARK MASTER IP AND PORT TO CONNECT TO SERVER ################\n",
    "from pyspark.sql import SparkSession\n",
    "spark = SparkSession.builder.master('local[1]').getOrCreate()\n",
    "#%run bostonhousingdatapipelineHooks.ipynb\n",
    "try:\n",
    "\t#sourcePreExecutionHook()\n",
    "\n",
    "\tbotonhouingtrain = HDFSConnector.fetch(spark, \"{'url': '/FileStore/platform/testdata/1696427074578_Boston_Housing_Train.csv', 'filename': 'Boston_Housing_Train.csv', 'delimiter': ',', 'file_type': 'Delimeted', 'dbfs_token': '', 'dbfs_domain': '', 'FilePath': '/Real Estate/Boston Housing/Boston_Housing_Train.csv', 'viewFileName': 'Boston_Housing_Train.csv', 'is_header': 'Use Header Line', 'baseType': 'hdfs', 'server_url': '/numtraPlatform/NumtraPlatformV3/uploads/platform/', 'results_url': 'http://mluat.numtra.com:44040/api/read/hdfs'}\")\n",
    "\n",
    "except Exception as ex: \n",
    "\tlogging.error(ex)\n",
    "#spark.stop()\n"
   ]
  },
  {
   "cell_type": "markdown",
   "id": "252d21b5",
   "metadata": {},
   "source": [
    "***PERFORMING OPERATIONS***"
   ]
  },
  {
   "cell_type": "code",
   "execution_count": null,
   "id": "1fa08ce7",
   "metadata": {},
   "outputs": [],
   "source": [
    "#%run bostonhousingdatapipelineHooks.ipynb\n",
    "try:\n",
    "\t#operationPreExecutionHook()\n",
    "\n",
    "datapreparation = runDataCleansing(botonhouingtrain,spark,json.dumps( {\"url\": \"/FileStore/platform/testdata/1696427074578_Boston_Housing_Train.csv\", \"source_attributes\": {}, \"DataPrepFile\": \"/FileStore/platform/testdata/1696427074578_Boston_Housing_Train.csv\", \"data_source\": \"platfiles\", \"startListenerOnly\": 1, \"dateColumnNames\": [], \"FilePath\": \"/FileStore/platform/extra/6512ef60b91dbaa301dd15bf1698998215/0part.csv\", \"requestRatio\": 1, \"totalRows\": 508, \"BasicStats\": {\"missingValues\": 0.0, \"numberOfColumns\": 14, \"numberOfRows\": 508, \"duplicateRowCount\": 2, \"stats\": [{\"column\": \"CRIM\", \"alias\": \"CRIM\", \"generated\": 0, \"type\": \"real\", \"max\": 88.9762, \"min\": 0.00632, \"mean\": 3.6061895266272193, \"missing\": 0.2, \"stddev\": 8.59, \"outliers\": [8.98296, 13.5222, 9.2323, 8.26725, 11.1081, 18.4982, 19.6091, 15.288, 9.82349, 23.6482, 17.8667, 88.9762, 15.8744, 9.18702, 20.0849, 16.8118, 24.3938, 22.5971, 14.3337, 11.5779, 8.64476, 13.3598, 8.71675, 38.3518, 9.91655, 25.0461, 14.2362, 9.59571, 24.8017, 41.5292, 67.9208, 20.7162, 11.9511, 14.4383, 51.1358, 14.0507, 18.811, 28.6558, 45.7461, 18.0846, 10.8342, 25.9406, 73.5341, 11.8123, 11.0874, 12.0482, 8.79212, 15.8603, 12.2472, 37.6619, 9.33889, 8.49213, 10.0623, 13.9134, 11.1604, 14.4208, 15.1772, 13.6781, 9.39063, 22.0511, 9.72418, 9.96654, 12.8023, 10.6718, 9.92485, 9.32909, 8.24809, 9.51363, 8.20058, 15.5757, 13.0751, 15.0234, 10.233, 14.3337], \"validation\": []}, {\"column\": \"ZN\", \"alias\": \"ZN\", \"generated\": 0, \"type\": \"real\", \"max\": 100.0, \"min\": 0.0, \"mean\": 11.38976377952756, \"missing\": 0.0, \"stddev\": 23.28, \"outliers\": [75.0, 75.0, 75.0, 90.0, 85.0, 100.0, 80.0, 80.0, 45.0, 45.0, 45.0, 45.0, 45.0, 45.0, 60.0, 60.0, 80.0, 80.0, 80.0, 80.0, 95.0, 95.0, 82.5, 82.5, 95.0, 95.0, 30.0, 30.0, 30.0, 30.0, 30.0, 30.0, 80.0, 80.0, 90.0, 40.0, 40.0, 40.0, 40.0, 40.0, 90.0, 90.0, 55.0, 80.0, 52.5, 52.5, 52.5, 80.0, 80.0, 80.0, 70.0, 70.0, 70.0, 34.0, 34.0, 34.0, 33.0, 33.0, 33.0, 33.0, 35.0, 35.0, 35.0, 55.0, 55.0, 85.0, 80.0, 40.0, 40.0, 60.0, 60.0, 90.0, 80.0, 80.0], \"validation\": []}, {\"column\": \"INDUS\", \"alias\": \"INDUS\", \"generated\": 0, \"type\": \"real\", \"max\": 27.74, \"min\": 0.46, \"mean\": 11.088224852071006, \"missing\": 0.2, \"stddev\": 6.87, \"outliers\": [], \"validation\": []}, {\"column\": \"CHAS\", \"alias\": \"CHAS\", \"generated\": 0, \"type\": \"real\", \"max\": 1.0, \"min\": 0.0, \"mean\": 0.06903353057199212, \"missing\": 0.2, \"stddev\": 0.25, \"outliers\": [1.0, 1.0, 1.0, 1.0, 1.0, 1.0, 1.0, 1.0, 1.0, 1.0, 1.0, 1.0, 1.0, 1.0, 1.0, 1.0, 1.0, 1.0, 1.0, 1.0, 1.0, 1.0, 1.0, 1.0, 1.0, 1.0, 1.0, 1.0, 1.0, 1.0, 1.0, 1.0, 1.0, 1.0, 1.0], \"validation\": []}, {\"column\": \"NOX\", \"alias\": \"NOX\", \"generated\": 0, \"type\": \"real\", \"max\": 0.871, \"min\": 0.385, \"mean\": 0.5546897435897437, \"missing\": 0.2, \"stddev\": 0.12, \"outliers\": [0.871, 0.871, 0.871, 0.871, 0.871, 0.871, 0.871, 0.871, 0.871, 0.871, 0.871, 0.871, 0.871, 0.871, 0.871, 0.871], \"validation\": []}, {\"column\": \"RM\", \"alias\": \"RM\", \"generated\": 0, \"type\": \"real\", \"max\": 8.78, \"min\": 3.561, \"mean\": 6.285777559055117, \"missing\": 0.0, \"stddev\": 0.7, \"outliers\": [8.069, 7.82, 4.903, 4.926, 7.802, 8.375, 7.929, 7.765, 7.831, 7.875, 7.61, 7.853, 8.034, 8.266, 8.725, 8.04, 7.686, 8.337, 8.247, 8.259, 8.704, 8.398, 8.297, 7.691, 7.82, 7.645, 7.923, 8.78, 3.561, 4.963, 3.863, 4.906, 4.138, 4.368, 4.652, 4.88, 4.138, 4.628, 4.519], \"validation\": []}, {\"column\": \"AGE\", \"alias\": \"AGE\", \"generated\": 0, \"type\": \"real\", \"max\": 100.0, \"min\": 2.9, \"mean\": 68.56161417322835, \"missing\": 0.0, \"stddev\": 28.09, \"outliers\": [], \"validation\": []}, {\"column\": \"DIS\", \"alias\": \"DIS\", \"generated\": 0, \"type\": \"real\", \"max\": 12.1265, \"min\": 1.1296, \"mean\": 3.798711904761905, \"missing\": 0.8, \"stddev\": 2.11, \"outliers\": [9.1876, 9.2229, 9.2203, 9.2203, 10.7103, 10.7103, 12.1265, 10.5857, 10.5857], \"validation\": []}, {\"column\": \"RAD\", \"alias\": \"RAD\", \"generated\": 0, \"type\": \"real\", \"max\": 24.0, \"min\": 1.0, \"mean\": 9.515748031496063, \"missing\": 0.0, \"stddev\": 8.71, \"outliers\": [], \"validation\": []}, {\"column\": \"TAX\", \"alias\": \"TAX\", \"generated\": 0, \"type\": \"real\", \"max\": 711.0, \"min\": 187.0, \"mean\": 408.2059405940594, \"missing\": 0.6, \"stddev\": 168.74, \"outliers\": [], \"validation\": []}, {\"column\": \"PTRATIO\", \"alias\": \"PTRATIO\", \"generated\": 0, \"type\": \"real\", \"max\": 22.0, \"min\": 12.6, \"mean\": 18.443110236220473, \"missing\": 0.0, \"stddev\": 2.17, \"outliers\": [12.6, 12.6, 12.6, 13.0, 13.0, 13.0, 13.0, 13.0, 13.0, 13.0, 13.0, 13.0, 13.0, 13.0, 13.0], \"validation\": []}, {\"column\": \"B\", \"alias\": \"B\", \"generated\": 0, \"type\": \"real\", \"max\": 396.9, \"min\": 0.32, \"mean\": 356.8324015748031, \"missing\": 0.0, \"stddev\": 91.15, \"outliers\": [288.99, 303.42, 306.38, 232.6, 248.31, 70.8, 344.91, 338.63, 262.76, 172.91, 169.27, 341.6, 343.28, 261.95, 321.02, 88.01, 88.63, 338.92, 240.16, 227.61, 297.09, 330.04, 292.29, 348.13, 348.93, 341.6, 316.03, 131.42, 347.88, 285.83, 338.16, 329.46, 332.09, 314.64, 179.36, 2.6, 35.05, 28.79, 210.97, 88.27, 27.25, 21.57, 127.36, 16.45, 48.45, 318.75, 319.98, 291.55, 2.52, 3.65, 7.68, 24.65, 18.82, 96.73, 60.72, 83.45, 81.33, 97.95, 100.19, 100.63, 109.85, 27.49, 9.32, 68.95, 240.52, 43.06, 318.01, 304.21, 0.32, 6.68, 50.92, 10.48, 3.5, 272.21, 255.23, 334.4, 22.01, 331.29, 302.76, 349.48, 344.05, 318.43], \"validation\": []}, {\"column\": \"LSTAT\", \"alias\": \"LSTAT\", \"generated\": 0, \"type\": \"real\", \"max\": 37.97, \"min\": 1.73, \"mean\": 12.62285433070866, \"missing\": 0.0, \"stddev\": 7.14, \"outliers\": [29.93, 30.81, 34.41, 29.53, 29.55, 34.77, 37.97, 30.63, 30.81, 31.99, 30.62, 30.59, 29.97, 34.37, 36.98, 34.02, 29.68], \"validation\": []}, {\"column\": \"MEDV\", \"alias\": \"MEDV\", \"generated\": 0, \"type\": \"real\", \"max\": 50.0, \"min\": 5.0, \"mean\": 22.538582677165355, \"missing\": 0.0, \"stddev\": 9.18, \"outliers\": [36.2, 35.4, 38.7, 43.8, 41.3, 50.0, 50.0, 50.0, 50.0, 37.2, 39.8, 36.2, 37.9, 50.0, 37.0, 36.4, 50.0, 42.3, 48.5, 50.0, 44.8, 50.0, 37.6, 46.7, 41.7, 48.3, 42.8, 44.0, 50.0, 36.0, 43.1, 48.8, 36.5, 50.0, 43.5, 35.2, 35.1, 45.4, 35.4, 46.0, 50.0, 37.3, 36.1, 50.0, 50.0, 50.0, 50.0, 50.0, 5.0, 6.3, 5.6, 5.0, 7.0, 7.0], \"validation\": []}]}, \"predictionPowerScore\": [{\"AGE\": 1.0, \"B\": 0.0, \"CHAS\": 0.0, \"CRIM\": 0.1076923189, \"DIS\": 0.3735291923, \"INDUS\": 0.487275634, \"LSTAT\": 0.0071417379, \"MEDV\": 0.1034325105, \"NOX\": 0.5096924602, \"PTRATIO\": 0.3549150669, \"RAD\": 0.1579859796, \"RM\": 0.0, \"TAX\": 0.4368743984, \"ZN\": 0.219783429}, {\"AGE\": 0.0, \"B\": 1.0, \"CHAS\": 0.0, \"CRIM\": 0.0, \"DIS\": 0.0, \"INDUS\": 0.0, \"LSTAT\": 0.0, \"MEDV\": 0.0, \"NOX\": 0.1033584089, \"PTRATIO\": 0.0, \"RAD\": 0.0, \"RM\": 0.0, \"TAX\": 0.0, \"ZN\": 0.0}, {\"AGE\": 0.0, \"B\": 0.0, \"CHAS\": 1.0, \"CRIM\": 0.0, \"DIS\": 0.0, \"INDUS\": 0.0, \"LSTAT\": 0.0, \"MEDV\": 0.0, \"NOX\": 0.0, \"PTRATIO\": 0.0, \"RAD\": 0.0, \"RM\": 0.0, \"TAX\": 0.0, \"ZN\": 0.0}, {\"AGE\": 0.0, \"B\": 0.0, \"CHAS\": 0.0, \"CRIM\": 1.0, \"DIS\": 0.0, \"INDUS\": 0.3945679251, \"LSTAT\": 0.0, \"MEDV\": 0.0, \"NOX\": 0.4174549022, \"PTRATIO\": 0.3389284019, \"RAD\": 0.3339646183, \"RM\": 0.0, \"TAX\": 0.3881264259, \"ZN\": 0.0}, {\"AGE\": 0.217805595, \"B\": 0.0, \"CHAS\": 0.0, \"CRIM\": 0.1313929116, \"DIS\": 1.0, \"INDUS\": 0.7440599808, \"LSTAT\": 0.0, \"MEDV\": 0.0, \"NOX\": 0.7656561648, \"PTRATIO\": 0.4867027803, \"RAD\": 0.2009408738, \"RM\": 0.0, \"TAX\": 0.672034978, \"ZN\": 0.344928847}, {\"AGE\": 0.1693934652, \"B\": 0.0377377391, \"CHAS\": 0.0, \"CRIM\": 0.3952296391, \"DIS\": 0.4286514321, \"INDUS\": 1.0, \"LSTAT\": 0.0885038677, \"MEDV\": 0.2093722695, \"NOX\": 0.8987835323, \"PTRATIO\": 0.6711081161, \"RAD\": 0.4386124459, \"RM\": 0.0, \"TAX\": 0.8668643107, \"ZN\": 0.2647645188}, {\"AGE\": 0.0213368162, \"B\": 0.0, \"CHAS\": 0.0, \"CRIM\": 0.0, \"DIS\": 0.0785913756, \"INDUS\": 0.306739804, \"LSTAT\": 1.0, \"MEDV\": 0.3041179099, \"NOX\": 0.3407682361, \"PTRATIO\": 0.2204622549, \"RAD\": 0.171530335, \"RM\": 0.0231677142, \"TAX\": 0.2642349521, \"ZN\": 0.1289568876}, {\"AGE\": 0.0, \"B\": 0.0, \"CHAS\": 0.0, \"CRIM\": 0.0, \"DIS\": 0.0, \"INDUS\": 0.279432782, \"LSTAT\": 0.1746671903, \"MEDV\": 1.0, \"NOX\": 0.3294238172, \"PTRATIO\": 0.186904569, \"RAD\": 0.0791697288, \"RM\": 0.1002205305, \"TAX\": 0.1764342781, \"ZN\": 0.1042276873}, {\"AGE\": 0.2026718454, \"B\": 0.0, \"CHAS\": 0.0, \"CRIM\": 0.3429665435, \"DIS\": 0.4231832893, \"INDUS\": 0.7489276211, \"LSTAT\": 0.0, \"MEDV\": 0.0829674509, \"NOX\": 1.0, \"PTRATIO\": 0.5270667003, \"RAD\": 0.3137312526, \"RM\": 0.0, \"TAX\": 0.688944979, \"ZN\": 0.2386278613}, {\"AGE\": 0.0, \"B\": 0.0, \"CHAS\": 0.0, \"CRIM\": 0.0895895658, \"DIS\": 0.1400949796, \"INDUS\": 0.9262211359, \"LSTAT\": 0.0, \"MEDV\": 0.0314475517, \"NOX\": 0.8350880367, \"PTRATIO\": 1.0, \"RAD\": 0.3247578, \"RM\": 0.0, \"TAX\": 0.7634607216, \"ZN\": 0.1813036534}, {\"AGE\": 0.0, \"B\": 0.0, \"CHAS\": 0.0, \"CRIM\": 0.7354620745, \"DIS\": 0.0216370346, \"INDUS\": 0.9698621943, \"LSTAT\": 0.0, \"MEDV\": 0.0913290048, \"NOX\": 0.9655790346, \"PTRATIO\": 0.811415997, \"RAD\": 1.0, \"RM\": 0.0, \"TAX\": 0.9175014426, \"ZN\": 0.0}, {\"AGE\": 0.0, \"B\": 0.0, \"CHAS\": 0.0, \"CRIM\": 0.0, \"DIS\": 0.0, \"INDUS\": 0.1461732128, \"LSTAT\": 0.0, \"MEDV\": 0.1045622977, \"NOX\": 0.1395838005, \"PTRATIO\": 0.1028987402, \"RAD\": 0.0, \"RM\": 1.0, \"TAX\": 0.04444513, \"ZN\": 0.0951258477}, {\"AGE\": 0.0, \"B\": 0.0, \"CHAS\": 0.0, \"CRIM\": 0.542221313, \"DIS\": 0.1883196315, \"INDUS\": 0.9729081033, \"LSTAT\": 0.0, \"MEDV\": 0.1666579026, \"NOX\": 0.9496055233, \"PTRATIO\": 0.7283403474, \"RAD\": 0.6916701903, \"RM\": 0.0, \"TAX\": 1.0, \"ZN\": 0.0690256645}, {\"AGE\": 0.0126477046, \"B\": 0.0, \"CHAS\": 0.0, \"CRIM\": 0.0, \"DIS\": 0.4380400968, \"INDUS\": 0.8282149534, \"LSTAT\": 0.0, \"MEDV\": 0.0, \"NOX\": 0.7024484977, \"PTRATIO\": 0.2993860304, \"RAD\": 0.0, \"RM\": 0.0, \"TAX\": 0.4970801968, \"ZN\": 1.0}], \"HasBasicStats\": 1, \"functionsApplied\": [], \"functionChanges\": [], \"fileheader\": [{\"field\": \"CRIM\", \"alias\": \"CRIM\", \"generated\": 0, \"position\": 1, \"type\": \"real\"}, {\"field\": \"ZN\", \"alias\": \"ZN\", \"generated\": 0, \"position\": 2, \"type\": \"real\"}, {\"field\": \"INDUS\", \"alias\": \"INDUS\", \"generated\": 0, \"position\": 3, \"type\": \"real\"}, {\"field\": \"CHAS\", \"alias\": \"CHAS\", \"generated\": 0, \"position\": 4, \"type\": \"real\"}, {\"field\": \"NOX\", \"alias\": \"NOX\", \"generated\": 0, \"position\": 5, \"type\": \"real\"}, {\"field\": \"RM\", \"alias\": \"RM\", \"generated\": 0, \"position\": 6, \"type\": \"real\"}, {\"field\": \"AGE\", \"alias\": \"AGE\", \"generated\": 0, \"position\": 7, \"type\": \"real\"}, {\"field\": \"DIS\", \"alias\": \"DIS\", \"generated\": 0, \"position\": 8, \"type\": \"real\"}, {\"field\": \"RAD\", \"alias\": \"RAD\", \"generated\": 0, \"position\": 9, \"type\": \"real\"}, {\"field\": \"TAX\", \"alias\": \"TAX\", \"generated\": 0, \"position\": 10, \"type\": \"real\"}, {\"field\": \"PTRATIO\", \"alias\": \"PTRATIO\", \"generated\": 0, \"position\": 11, \"type\": \"real\"}, {\"field\": \"B\", \"alias\": \"B\", \"generated\": 0, \"position\": 12, \"type\": \"real\"}, {\"field\": \"LSTAT\", \"alias\": \"LSTAT\", \"generated\": 0, \"position\": 13, \"type\": \"real\"}, {\"field\": \"MEDV\", \"alias\": \"MEDV\", \"generated\": 0, \"position\": 14, \"type\": \"real\"}]}))\n",
    "\t#operationPostExecutionHook(datapreparation)\n",
    "\n",
    "except Exception as ex: \n",
    "\tlogging.error(ex)\n"
   ]
  },
  {
   "cell_type": "markdown",
   "id": "6f5eba82",
   "metadata": {},
   "source": [
    "***WRITING DATAFRAME***"
   ]
  },
  {
   "cell_type": "code",
   "execution_count": null,
   "id": "4a73b4a7",
   "metadata": {},
   "outputs": [],
   "source": [
    "#%run bostonhousingdatapipelineHooks.ipynb\n",
    "try:\n",
    "\t#sinkPreExecutionHook()\n",
    "\n",
    "\tbostonhousing = NumtraConnector.fetch(spark, \"{'samplefile': '/FileStore/platform/sampleData/6512ef5bb91dbaa301dd15bb/part-00000-03102f23-a7a4-405c-98b4-252b69d2970b-c000.csv', 'samplecount': 508, 'originalcount': 508, 'orignalKey': '/FileStore/platform/testdata/1696427074578_Boston_Housing_Train.csv', 'pathOnly': '/Real Estate/Boston Housing', 'project_id': '6512eef3b91dbaa301dd158b', 'parent_id': '6512eef3b91dbaa301dd158b', 'original_schema': [{'checked': True, 'inherited': True, 'is_categorical': False, 'bad_values': '', 'nullable': 'true', '_id': '651d6e5510b9b6250cb8e654', 'field': 'CRIM', 'alias': 'CRIM', 'type': 'real', 'position': '0'}, {'checked': True, 'inherited': True, 'is_categorical': False, 'bad_values': '', 'nullable': 'true', '_id': '651d6e5510b9b6250cb8e655', 'field': 'ZN', 'alias': 'ZN', 'type': 'real', 'position': '1'}, {'checked': True, 'inherited': True, 'is_categorical': False, 'bad_values': '', 'nullable': 'true', '_id': '651d6e5510b9b6250cb8e656', 'field': 'INDUS', 'alias': 'INDUS', 'type': 'real', 'position': '2'}, {'checked': True, 'inherited': True, 'is_categorical': False, 'bad_values': '', 'nullable': 'true', '_id': '651d6e5510b9b6250cb8e657', 'field': 'CHAS', 'alias': 'CHAS', 'type': 'real', 'position': '3'}, {'checked': True, 'inherited': True, 'is_categorical': False, 'bad_values': '', 'nullable': 'true', '_id': '651d6e5510b9b6250cb8e658', 'field': 'NOX', 'alias': 'NOX', 'type': 'real', 'position': '4'}, {'checked': True, 'inherited': True, 'is_categorical': False, 'bad_values': '', 'nullable': 'true', '_id': '651d6e5510b9b6250cb8e659', 'field': 'RM', 'alias': 'RM', 'type': 'real', 'position': '5'}, {'checked': True, 'inherited': True, 'is_categorical': False, 'bad_values': '', 'nullable': 'true', '_id': '651d6e5510b9b6250cb8e65a', 'field': 'AGE', 'alias': 'AGE', 'type': 'real', 'position': '6'}, {'checked': True, 'inherited': True, 'is_categorical': False, 'bad_values': '', 'nullable': 'true', '_id': '651d6e5510b9b6250cb8e65b', 'field': 'DIS', 'alias': 'DIS', 'type': 'real', 'position': '7'}, {'checked': True, 'inherited': True, 'is_categorical': False, 'bad_values': '', 'nullable': 'true', '_id': '651d6e5510b9b6250cb8e65c', 'field': 'RAD', 'alias': 'RAD', 'type': 'real', 'position': '8'}, {'checked': True, 'inherited': True, 'is_categorical': False, 'bad_values': '', 'nullable': 'true', '_id': '651d6e5510b9b6250cb8e65d', 'field': 'TAX', 'alias': 'TAX', 'type': 'real', 'position': '9'}, {'checked': True, 'inherited': True, 'is_categorical': False, 'bad_values': '', 'nullable': 'true', '_id': '651d6e5510b9b6250cb8e65e', 'field': 'PTRATIO', 'alias': 'PTRATIO', 'type': 'real', 'position': '10'}, {'checked': True, 'inherited': True, 'is_categorical': False, 'bad_values': '', 'nullable': 'true', '_id': '651d6e5510b9b6250cb8e65f', 'field': 'B', 'alias': 'B', 'type': 'real', 'position': '11'}, {'checked': True, 'inherited': True, 'is_categorical': False, 'bad_values': '', 'nullable': 'true', '_id': '651d6e5510b9b6250cb8e660', 'field': 'LSTAT', 'alias': 'LSTAT', 'type': 'real', 'position': '12'}, {'checked': True, 'inherited': True, 'is_categorical': False, 'bad_values': '', 'nullable': 'true', '_id': '651d6e5510b9b6250cb8e661', 'field': 'MEDV', 'alias': 'MEDV', 'type': 'real', 'position': '13'}], 'actual_schema': [{'checked': True, 'inherited': True, 'is_categorical': False, 'bad_values': '', 'nullable': 'true', '_id': '651d6e5510b9b6250cb8e662', 'field': 'CRIM', 'alias': 'CRIM', 'type': 'real', 'position': '0'}, {'checked': True, 'inherited': True, 'is_categorical': False, 'bad_values': '', 'nullable': 'true', '_id': '651d6e5510b9b6250cb8e663', 'field': 'ZN', 'alias': 'ZN', 'type': 'real', 'position': '1'}, {'checked': True, 'inherited': True, 'is_categorical': False, 'bad_values': '', 'nullable': 'true', '_id': '651d6e5510b9b6250cb8e664', 'field': 'INDUS', 'alias': 'INDUS', 'type': 'real', 'position': '2'}, {'checked': True, 'inherited': True, 'is_categorical': False, 'bad_values': '', 'nullable': 'true', '_id': '651d6e5510b9b6250cb8e665', 'field': 'CHAS', 'alias': 'CHAS', 'type': 'real', 'position': '3'}, {'checked': True, 'inherited': True, 'is_categorical': False, 'bad_values': '', 'nullable': 'true', '_id': '651d6e5510b9b6250cb8e666', 'field': 'NOX', 'alias': 'NOX', 'type': 'real', 'position': '4'}, {'checked': True, 'inherited': True, 'is_categorical': False, 'bad_values': '', 'nullable': 'true', '_id': '651d6e5510b9b6250cb8e667', 'field': 'RM', 'alias': 'RM', 'type': 'real', 'position': '5'}, {'checked': True, 'inherited': True, 'is_categorical': False, 'bad_values': '', 'nullable': 'true', '_id': '651d6e5510b9b6250cb8e668', 'field': 'AGE', 'alias': 'AGE', 'type': 'real', 'position': '6'}, {'checked': True, 'inherited': True, 'is_categorical': False, 'bad_values': '', 'nullable': 'true', '_id': '651d6e5510b9b6250cb8e669', 'field': 'DIS', 'alias': 'DIS', 'type': 'real', 'position': '7'}, {'checked': True, 'inherited': True, 'is_categorical': False, 'bad_values': '', 'nullable': 'true', '_id': '651d6e5510b9b6250cb8e66a', 'field': 'RAD', 'alias': 'RAD', 'type': 'real', 'position': '8'}, {'checked': True, 'inherited': True, 'is_categorical': False, 'bad_values': '', 'nullable': 'true', '_id': '651d6e5510b9b6250cb8e66b', 'field': 'TAX', 'alias': 'TAX', 'type': 'real', 'position': '9'}, {'checked': True, 'inherited': True, 'is_categorical': False, 'bad_values': '', 'nullable': 'true', '_id': '651d6e5510b9b6250cb8e66c', 'field': 'PTRATIO', 'alias': 'PTRATIO', 'type': 'real', 'position': '10'}, {'checked': True, 'inherited': True, 'is_categorical': False, 'bad_values': '', 'nullable': 'true', '_id': '651d6e5510b9b6250cb8e66d', 'field': 'B', 'alias': 'B', 'type': 'real', 'position': '11'}, {'checked': True, 'inherited': True, 'is_categorical': False, 'bad_values': '', 'nullable': 'true', '_id': '651d6e5510b9b6250cb8e66e', 'field': 'LSTAT', 'alias': 'LSTAT', 'type': 'real', 'position': '12'}, {'checked': True, 'inherited': True, 'is_categorical': False, 'bad_values': '', 'nullable': 'true', '_id': '651d6e5510b9b6250cb8e66f', 'field': 'MEDV', 'alias': 'MEDV', 'type': 'real', 'position': '13'}], 'server': 'https://mluat.numtra.com:443', 'server_url': '/numtraPlatform/NumtraPlatformV3/uploads/platform/', 'delimiter': ',', 'file_type': 'Delimeted', 'filename': 'BostonTrainDP3.csv', 'token': '', 'domain': '', 'is_header': 'Use Header Line', 'url': '/FileStore/platform/uploadedSourceFiles/part-00000-158232a1-8b60-4132-8343-dd7bee1e542b-c000.csv', 'results_url': 'http://mluat.numtra.com:44040/api/read/hdfs'}\")\n",
    "\n",
    "except Exception as ex: \n",
    "\tlogging.error(ex)\n"
   ]
  }
 ],
 "metadata": {},
 "nbformat": 4,
 "nbformat_minor": 5
}
